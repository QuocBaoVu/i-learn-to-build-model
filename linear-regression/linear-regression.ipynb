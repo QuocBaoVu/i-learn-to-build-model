{
 "cells": [
  {
   "cell_type": "markdown",
   "metadata": {},
   "source": [
    "# **INTRODUCTION**\n",
    "\n",
    "In this notebook, I implement Linear Regression using only NumPy, without using any machine learning libraries.\n",
    "\n",
    "The goal is to deeply understand how gradient descent works to minimize Mean Squared Error (MSE), and to visualize how the model learns over time.\n"
   ]
  },
  {
   "cell_type": "markdown",
   "metadata": {},
   "source": [
    "## Data Overview\n",
    "\n",
    "I use a simple dataset of salaries based on years of experience. My goal is use Linear Regression to fit a line to predict the salary from experience time.\n",
    "\n",
    "Features:\n",
    "- `YearsExperience`: number of years in a role\n",
    "- `Salary`: annual salary in dollars\n"
   ]
  },
  {
   "cell_type": "markdown",
   "metadata": {},
   "source": [
    "# **1. IMPORT LIBRARIES**\n"
   ]
  },
  {
   "cell_type": "code",
   "execution_count": 2,
   "metadata": {
    "execution": {
     "iopub.execute_input": "2025-05-23T02:54:40.422242Z",
     "iopub.status.busy": "2025-05-23T02:54:40.421871Z",
     "iopub.status.idle": "2025-05-23T02:54:40.426883Z",
     "shell.execute_reply": "2025-05-23T02:54:40.425678Z",
     "shell.execute_reply.started": "2025-05-23T02:54:40.422217Z"
    },
    "trusted": true
   },
   "outputs": [],
   "source": [
    "import pandas as pd\n",
    "import numpy as np\n",
    "import matplotlib.pyplot as plt"
   ]
  },
  {
   "cell_type": "markdown",
   "metadata": {},
   "source": [
    "# **2. LOAD DATASET**"
   ]
  },
  {
   "cell_type": "code",
   "execution_count": 6,
   "metadata": {
    "execution": {
     "iopub.execute_input": "2025-05-23T02:54:41.444164Z",
     "iopub.status.busy": "2025-05-23T02:54:41.443777Z",
     "iopub.status.idle": "2025-05-23T02:54:41.452745Z",
     "shell.execute_reply": "2025-05-23T02:54:41.451616Z",
     "shell.execute_reply.started": "2025-05-23T02:54:41.444138Z"
    },
    "trusted": true
   },
   "outputs": [],
   "source": [
    "df = pd.read_csv('data/Salary_dataset.csv', index_col=0)\n",
    "org_df = df.copy()"
   ]
  },
  {
   "cell_type": "markdown",
   "metadata": {},
   "source": [
    "# **3. UNDERSTANDING DATA**\n",
    "**First Look at the data:**\n",
    "-  the Type of Data\n",
    "- Null Numbers\n",
    "- Unique values\n",
    "- The first rows of our dataset\n",
    "- Data Distribution"
   ]
  },
  {
   "cell_type": "markdown",
   "metadata": {},
   "source": [
    "**Summary**\n",
    "- The dataset has 2 numeric columns\n",
    "- The average years of experience is 5.413\n",
    "- The average salary is $760004"
   ]
  },
  {
   "cell_type": "code",
   "execution_count": 7,
   "metadata": {
    "execution": {
     "iopub.execute_input": "2025-05-23T02:54:42.060361Z",
     "iopub.status.busy": "2025-05-23T02:54:42.060012Z",
     "iopub.status.idle": "2025-05-23T02:54:42.069718Z",
     "shell.execute_reply": "2025-05-23T02:54:42.068727Z",
     "shell.execute_reply.started": "2025-05-23T02:54:42.060337Z"
    },
    "trusted": true
   },
   "outputs": [
    {
     "data": {
      "text/html": [
       "<div>\n",
       "<style scoped>\n",
       "    .dataframe tbody tr th:only-of-type {\n",
       "        vertical-align: middle;\n",
       "    }\n",
       "\n",
       "    .dataframe tbody tr th {\n",
       "        vertical-align: top;\n",
       "    }\n",
       "\n",
       "    .dataframe thead th {\n",
       "        text-align: right;\n",
       "    }\n",
       "</style>\n",
       "<table border=\"1\" class=\"dataframe\">\n",
       "  <thead>\n",
       "    <tr style=\"text-align: right;\">\n",
       "      <th></th>\n",
       "      <th>YearsExperience</th>\n",
       "      <th>Salary</th>\n",
       "    </tr>\n",
       "  </thead>\n",
       "  <tbody>\n",
       "    <tr>\n",
       "      <th>0</th>\n",
       "      <td>1.2</td>\n",
       "      <td>39344.0</td>\n",
       "    </tr>\n",
       "    <tr>\n",
       "      <th>1</th>\n",
       "      <td>1.4</td>\n",
       "      <td>46206.0</td>\n",
       "    </tr>\n",
       "    <tr>\n",
       "      <th>2</th>\n",
       "      <td>1.6</td>\n",
       "      <td>37732.0</td>\n",
       "    </tr>\n",
       "    <tr>\n",
       "      <th>3</th>\n",
       "      <td>2.1</td>\n",
       "      <td>43526.0</td>\n",
       "    </tr>\n",
       "    <tr>\n",
       "      <th>4</th>\n",
       "      <td>2.3</td>\n",
       "      <td>39892.0</td>\n",
       "    </tr>\n",
       "  </tbody>\n",
       "</table>\n",
       "</div>"
      ],
      "text/plain": [
       "   YearsExperience   Salary\n",
       "0              1.2  39344.0\n",
       "1              1.4  46206.0\n",
       "2              1.6  37732.0\n",
       "3              2.1  43526.0\n",
       "4              2.3  39892.0"
      ]
     },
     "execution_count": 7,
     "metadata": {},
     "output_type": "execute_result"
    }
   ],
   "source": [
    "df.head()"
   ]
  },
  {
   "cell_type": "code",
   "execution_count": 8,
   "metadata": {
    "execution": {
     "iopub.execute_input": "2025-05-23T02:54:42.223899Z",
     "iopub.status.busy": "2025-05-23T02:54:42.223603Z",
     "iopub.status.idle": "2025-05-23T02:54:42.233749Z",
     "shell.execute_reply": "2025-05-23T02:54:42.232997Z",
     "shell.execute_reply.started": "2025-05-23T02:54:42.223877Z"
    },
    "trusted": true
   },
   "outputs": [
    {
     "name": "stdout",
     "output_type": "stream",
     "text": [
      "<class 'pandas.core.frame.DataFrame'>\n",
      "Index: 30 entries, 0 to 29\n",
      "Data columns (total 2 columns):\n",
      " #   Column           Non-Null Count  Dtype  \n",
      "---  ------           --------------  -----  \n",
      " 0   YearsExperience  30 non-null     float64\n",
      " 1   Salary           30 non-null     float64\n",
      "dtypes: float64(2)\n",
      "memory usage: 720.0 bytes\n"
     ]
    }
   ],
   "source": [
    "df.info()"
   ]
  },
  {
   "cell_type": "code",
   "execution_count": 9,
   "metadata": {
    "execution": {
     "iopub.execute_input": "2025-05-23T02:54:42.399601Z",
     "iopub.status.busy": "2025-05-23T02:54:42.399297Z",
     "iopub.status.idle": "2025-05-23T02:54:42.414286Z",
     "shell.execute_reply": "2025-05-23T02:54:42.413447Z",
     "shell.execute_reply.started": "2025-05-23T02:54:42.399578Z"
    },
    "trusted": true
   },
   "outputs": [
    {
     "data": {
      "text/html": [
       "<div>\n",
       "<style scoped>\n",
       "    .dataframe tbody tr th:only-of-type {\n",
       "        vertical-align: middle;\n",
       "    }\n",
       "\n",
       "    .dataframe tbody tr th {\n",
       "        vertical-align: top;\n",
       "    }\n",
       "\n",
       "    .dataframe thead th {\n",
       "        text-align: right;\n",
       "    }\n",
       "</style>\n",
       "<table border=\"1\" class=\"dataframe\">\n",
       "  <thead>\n",
       "    <tr style=\"text-align: right;\">\n",
       "      <th></th>\n",
       "      <th>YearsExperience</th>\n",
       "      <th>Salary</th>\n",
       "    </tr>\n",
       "  </thead>\n",
       "  <tbody>\n",
       "    <tr>\n",
       "      <th>count</th>\n",
       "      <td>30.000000</td>\n",
       "      <td>30.000000</td>\n",
       "    </tr>\n",
       "    <tr>\n",
       "      <th>mean</th>\n",
       "      <td>5.413333</td>\n",
       "      <td>76004.000000</td>\n",
       "    </tr>\n",
       "    <tr>\n",
       "      <th>std</th>\n",
       "      <td>2.837888</td>\n",
       "      <td>27414.429785</td>\n",
       "    </tr>\n",
       "    <tr>\n",
       "      <th>min</th>\n",
       "      <td>1.200000</td>\n",
       "      <td>37732.000000</td>\n",
       "    </tr>\n",
       "    <tr>\n",
       "      <th>25%</th>\n",
       "      <td>3.300000</td>\n",
       "      <td>56721.750000</td>\n",
       "    </tr>\n",
       "    <tr>\n",
       "      <th>50%</th>\n",
       "      <td>4.800000</td>\n",
       "      <td>65238.000000</td>\n",
       "    </tr>\n",
       "    <tr>\n",
       "      <th>75%</th>\n",
       "      <td>7.800000</td>\n",
       "      <td>100545.750000</td>\n",
       "    </tr>\n",
       "    <tr>\n",
       "      <th>max</th>\n",
       "      <td>10.600000</td>\n",
       "      <td>122392.000000</td>\n",
       "    </tr>\n",
       "  </tbody>\n",
       "</table>\n",
       "</div>"
      ],
      "text/plain": [
       "       YearsExperience         Salary\n",
       "count        30.000000      30.000000\n",
       "mean          5.413333   76004.000000\n",
       "std           2.837888   27414.429785\n",
       "min           1.200000   37732.000000\n",
       "25%           3.300000   56721.750000\n",
       "50%           4.800000   65238.000000\n",
       "75%           7.800000  100545.750000\n",
       "max          10.600000  122392.000000"
      ]
     },
     "execution_count": 9,
     "metadata": {},
     "output_type": "execute_result"
    }
   ],
   "source": [
    "df.describe()"
   ]
  },
  {
   "cell_type": "code",
   "execution_count": 10,
   "metadata": {
    "execution": {
     "iopub.execute_input": "2025-05-23T02:54:42.578413Z",
     "iopub.status.busy": "2025-05-23T02:54:42.578069Z",
     "iopub.status.idle": "2025-05-23T02:54:42.584692Z",
     "shell.execute_reply": "2025-05-23T02:54:42.583798Z",
     "shell.execute_reply.started": "2025-05-23T02:54:42.578392Z"
    },
    "trusted": true
   },
   "outputs": [
    {
     "data": {
      "text/plain": [
       "(30, 2)"
      ]
     },
     "execution_count": 10,
     "metadata": {},
     "output_type": "execute_result"
    }
   ],
   "source": [
    "df.shape"
   ]
  },
  {
   "cell_type": "markdown",
   "metadata": {},
   "source": [
    "The dataset includes 30 rows and 2 attributes"
   ]
  },
  {
   "cell_type": "code",
   "execution_count": 11,
   "metadata": {
    "execution": {
     "iopub.execute_input": "2025-05-23T02:54:42.909027Z",
     "iopub.status.busy": "2025-05-23T02:54:42.908732Z",
     "iopub.status.idle": "2025-05-23T02:54:42.915102Z",
     "shell.execute_reply": "2025-05-23T02:54:42.914213Z",
     "shell.execute_reply.started": "2025-05-23T02:54:42.908996Z"
    },
    "trusted": true
   },
   "outputs": [
    {
     "data": {
      "text/plain": [
       "array(['YearsExperience', 'Salary'], dtype=object)"
      ]
     },
     "execution_count": 11,
     "metadata": {},
     "output_type": "execute_result"
    }
   ],
   "source": [
    "df.columns.values"
   ]
  },
  {
   "cell_type": "code",
   "execution_count": 12,
   "metadata": {
    "execution": {
     "iopub.execute_input": "2025-05-23T02:54:43.069152Z",
     "iopub.status.busy": "2025-05-23T02:54:43.068856Z",
     "iopub.status.idle": "2025-05-23T02:54:43.232075Z",
     "shell.execute_reply": "2025-05-23T02:54:43.231203Z",
     "shell.execute_reply.started": "2025-05-23T02:54:43.069132Z"
    },
    "trusted": true
   },
   "outputs": [
    {
     "data": {
      "image/png": "[encoded data removed]",
      "text/plain": [
       "<Figure size 640x480 with 1 Axes>"
      ]
     },
     "metadata": {},
     "output_type": "display_data"
    }
   ],
   "source": [
    "plt.scatter(df[\"YearsExperience\"], df[\"Salary\"])\n",
    "plt.xlabel(\"Years of Experience\")\n",
    "plt.ylabel(\"Salary\")\n",
    "plt.title(\"Salary vs Experience\")\n",
    "plt.show()"
   ]
  },
  {
   "cell_type": "markdown",
   "metadata": {},
   "source": [
    "# **4. MATH BEHIND LINEAR REGRESSION**\n"
   ]
  },
  {
   "cell_type": "markdown",
   "metadata": {},
   "source": [
    "We model the relationship as:  `y_pred = Xw + b`\n",
    "\n",
    "The Loss function formula (Using 1/2 version): $L(w, b) = \\frac{1}{n} \\sum_{i=1}^{n} (\\hat{y}^{(i)} - y^{(i)})^2$\n",
    "\n",
    "Gradient Descent Updates:\n",
    "\n",
    "For w:\n",
    "$\\frac{\\partial L}{\\partial w} = \\frac{1}{n} X^\\top (Xw + b - y)$\n",
    "\n",
    "For b:\n",
    "$\\frac{\\partial L}{\\partial b} = \\frac{1}{n} \\sum (Xw + b - y)$\n"
   ]
  },
  {
   "cell_type": "code",
   "execution_count": 13,
   "metadata": {
    "execution": {
     "iopub.execute_input": "2025-05-23T02:54:47.428009Z",
     "iopub.status.busy": "2025-05-23T02:54:47.427662Z",
     "iopub.status.idle": "2025-05-23T02:54:47.437552Z",
     "shell.execute_reply": "2025-05-23T02:54:47.436577Z",
     "shell.execute_reply.started": "2025-05-23T02:54:47.427977Z"
    },
    "trusted": true
   },
   "outputs": [],
   "source": [
    "class LinearRegression():\n",
    "\n",
    "    def __init__(self, learning_rate, epochs):\n",
    "        self.learning_rate = learning_rate\n",
    "        self.epochs = epochs\n",
    "            \n",
    "    def fit(self, X, y):\n",
    "        self.m, self.n = X.shape # m: number of data, n: number of features\n",
    "\n",
    "        # weight:\n",
    "        self.w = np.zeros(self.n)\n",
    "\n",
    "        self.b = 0.0\n",
    "\n",
    "        self.X = X\n",
    "\n",
    "        self.y = y\n",
    "\n",
    "        # Gradient descent\n",
    "        for epoch in range(self.epochs):\n",
    "            if epoch % 100 == 0:\n",
    "                y_pred = self.predict(self.X)\n",
    "                loss = self.compute_loss(y_pred, self.y)\n",
    "                print(f\"Epoch {epoch}: Loss = {loss:.4f}\")\n",
    "            self.update_weights()\n",
    "        \n",
    "    def update_weights(self):\n",
    "        y_pred = self.predict(self.X)\n",
    "\n",
    "        dw = (1 / self.m) * np.dot(self.X.T, (y_pred - self.y))\n",
    "        db = (1 / self.m) * np.sum(y_pred - self.y)\n",
    "\n",
    "        self.w -= self.learning_rate* dw\n",
    "        self.b -= self.learning_rate* db\n",
    "    \n",
    "    def compute_loss(self, y_pred, y_true):\n",
    "        return np.mean((y_pred - y_true) ** 2)\n",
    "    def r2_score(self, y_true, y_pred):\n",
    "        ss_total = np.sum((y_true - np.mean(y_true)) ** 2)\n",
    "        ss_res = np.sum((y_true - y_pred) ** 2)\n",
    "        return 1 - (ss_res / ss_total)\n",
    "\n",
    "    def rmse(self, y_true, y_pred):\n",
    "        return np.sqrt(np.mean((y_pred - y_true) ** 2))\n",
    "        \n",
    "    def predict(self, X):\n",
    "        return np.dot(X, self.w) + self.b"
   ]
  },
  {
   "cell_type": "markdown",
   "metadata": {},
   "source": [
    "## Evaluation Metrics\n",
    "\n",
    "We use:\n",
    "\n",
    "- RMSE (Root Mean Squared Error)\n",
    "- R² Score (explained variance)\n"
   ]
  },
  {
   "cell_type": "code",
   "execution_count": 14,
   "metadata": {
    "execution": {
     "iopub.execute_input": "2025-05-23T02:55:48.009167Z",
     "iopub.status.busy": "2025-05-23T02:55:48.008869Z",
     "iopub.status.idle": "2025-05-23T02:55:48.037548Z",
     "shell.execute_reply": "2025-05-23T02:55:48.036471Z",
     "shell.execute_reply.started": "2025-05-23T02:55:48.009146Z"
    },
    "trusted": true
   },
   "outputs": [
    {
     "name": "stdout",
     "output_type": "stream",
     "text": [
      "Epoch 0: Loss = 6503107277.7333\n",
      "Epoch 100: Loss = 104651526.5361\n",
      "Epoch 200: Loss = 79900672.9241\n",
      "Epoch 300: Loss = 63498142.5036\n",
      "Epoch 400: Loss = 52628092.9929\n",
      "Epoch 500: Loss = 45424449.8148\n",
      "Epoch 600: Loss = 40650554.8123\n",
      "Epoch 700: Loss = 37486867.6429\n",
      "Epoch 800: Loss = 35390274.2951\n",
      "Epoch 900: Loss = 34000850.0471\n",
      "RMSE: 5751.5276886977135\n",
      "R² Score: 0.9544664771235531\n"
     ]
    }
   ],
   "source": [
    "model = LinearRegression(learning_rate=0.01, epochs=1000)\n",
    "X = df[[\"YearsExperience\"]].values\n",
    "y = df[\"Salary\"].values\n",
    "model.fit(X, y)\n",
    "pred = model.predict(X)\n",
    "\n",
    "print(\"RMSE:\", model.rmse(y, pred))\n",
    "print(\"R² Score:\", model.r2_score(y, pred))"
   ]
  },
  {
   "cell_type": "markdown",
   "metadata": {},
   "source": [
    "##  Model Evaluation Summary\n",
    "\n",
    "###  RMSE (Root Mean Squared Error)\n",
    "\n",
    "- Salary values in the dataset range from approximately **35,000 to 120,000**\n",
    "- The model's RMSE is **5,750**, which means predictions are, on average, off by only ~$5.7k\n",
    "- This is a **relatively low error**, indicating the model fits the data well and captures the underlying linear trend\n",
    "\n",
    "\n",
    "###  R² Score (Coefficient of Determination)\n",
    "\n",
    "- Ranges from **0 to 1**:\n",
    "  - `1.0` → perfect prediction\n",
    "  - `0.0` → model explains no variance\n",
    "  - `< 0` → worse than predicting the mean\n",
    "- The trained `LinearRegression` model scores **`R² = 0.9544`**, which means:\n",
    "  - **~95.4%** of the variation in salaries is explained by years of experience\n",
    "  - This is a **very strong score**, especially for a **single-feature linear model**\n",
    "\n",
    "\n",
    "\n"
   ]
  },
  {
   "cell_type": "markdown",
   "metadata": {},
   "source": [
    "## Visualize Model Fit\n"
   ]
  },
  {
   "cell_type": "code",
   "execution_count": 16,
   "metadata": {
    "execution": {
     "iopub.execute_input": "2025-05-23T02:55:49.788014Z",
     "iopub.status.busy": "2025-05-23T02:55:49.787711Z",
     "iopub.status.idle": "2025-05-23T02:55:49.975133Z",
     "shell.execute_reply": "2025-05-23T02:55:49.974334Z",
     "shell.execute_reply.started": "2025-05-23T02:55:49.787989Z"
    },
    "trusted": true
   },
   "outputs": [
    {
     "data": {
      "image/png": "[encoded data removed]",
      "text/plain": [
       "<Figure size 640x480 with 1 Axes>"
      ]
     },
     "metadata": {},
     "output_type": "display_data"
    }
   ],
   "source": [
    "plt.scatter(X, y, label=\"Actual data point\")\n",
    "plt.plot(X, pred, color=\"red\", label=\"Prediction\")\n",
    "plt.legend()\n",
    "plt.xlabel(\"YearsExperience\")\n",
    "plt.ylabel(\"Salary\")\n",
    "plt.title(\"Linear Regression Fit\")\n",
    "plt.show()"
   ]
  }
 ],
 "metadata": {
  "kaggle": {
   "accelerator": "none",
   "dataSources": [
    {
     "datasetId": 7488895,
     "sourceId": 11912172,
     "sourceType": "datasetVersion"
    }
   ],
   "dockerImageVersionId": 31040,
   "isGpuEnabled": false,
   "isInternetEnabled": true,
   "language": "python",
   "sourceType": "notebook"
  },
  "kernelspec": {
   "display_name": "Python 3",
   "language": "python",
   "name": "python3"
  },
  "language_info": {
   "codemirror_mode": {
    "name": "ipython",
    "version": 3
   },
   "file_extension": ".py",
   "mimetype": "text/x-python",
   "name": "python",
   "nbconvert_exporter": "python",
   "pygments_lexer": "ipython3",
   "version": "3.13.0"
  }
 },
 "nbformat": 4,
 "nbformat_minor": 4
}
